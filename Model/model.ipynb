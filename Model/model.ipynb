{
 "cells": [
  {
   "cell_type": "code",
   "execution_count": 13,
   "metadata": {},
   "outputs": [],
   "source": [
    "import pandas as pd\n",
    "import numpy as np\n",
    "import os\n",
    "import pickle\n"
   ]
  },
  {
   "cell_type": "code",
   "execution_count": 14,
   "metadata": {},
   "outputs": [
    {
     "name": "stdout",
     "output_type": "stream",
     "text": [
      "Current Directory: /home/atawimas/Project/DEEP-LEARNING/NLP/Text-Mining_Project/data\n"
     ]
    },
    {
     "data": {
      "text/plain": [
       "['data.ipynb:Zone.Identifier',\n",
       " 'train.csv:Zone.Identifier',\n",
       " 'data.ipynb',\n",
       " 'tfidf_model.pkl',\n",
       " 'test.csv:Zone.Identifier',\n",
       " 'train.csv',\n",
       " 'test.csv']"
      ]
     },
     "execution_count": 14,
     "metadata": {},
     "output_type": "execute_result"
    }
   ],
   "source": [
    "\n",
    "data_path =\"../data\"\n",
    "os.chdir(data_path)\n",
    "print(\"Current Directory:\", os.getcwd())\n",
    "os.listdir(data_path)"
   ]
  },
  {
   "cell_type": "code",
   "execution_count": 15,
   "metadata": {},
   "outputs": [],
   "source": [
    "train_data = pd.read_csv('train.csv') \n",
    "test_data = pd.read_csv('test.csv')"
   ]
  },
  {
   "cell_type": "code",
   "execution_count": 16,
   "metadata": {},
   "outputs": [
    {
     "data": {
      "text/plain": [
       "text     4\n",
       "label    0\n",
       "dtype: int64"
      ]
     },
     "execution_count": 16,
     "metadata": {},
     "output_type": "execute_result"
    }
   ],
   "source": [
    "train_data.isna().sum()"
   ]
  },
  {
   "cell_type": "code",
   "execution_count": 17,
   "metadata": {},
   "outputs": [],
   "source": [
    "train_data = train_data.dropna()"
   ]
  },
  {
   "cell_type": "code",
   "execution_count": 18,
   "metadata": {},
   "outputs": [
    {
     "name": "stdout",
     "output_type": "stream",
     "text": [
      "Current Directory: /home/atawimas/Project/DEEP-LEARNING/NLP/Text-Mining_Project/Saved_Model\n"
     ]
    }
   ],
   "source": [
    "data_path =\"../Saved_Model\"\n",
    "os.chdir(data_path)\n",
    "print(\"Current Directory:\", os.getcwd())"
   ]
  },
  {
   "cell_type": "code",
   "execution_count": 19,
   "metadata": {},
   "outputs": [],
   "source": [
    "from sklearn.feature_extraction.text import TfidfVectorizer\n",
    "import gensim.downloader as api\n",
    "#td-id\n",
    "tfid = TfidfVectorizer() #deklrasi tfid\n",
    "x_TF_IDF = tfid.fit_transform(train_data['text'])\n",
    "with open('tfidf_model.pkl', 'wb') as f:\n",
    "    pickle.dump(tfid, f)\n",
    "\n",
    "#Word2Vec\n",
    "glove_model = api.load(\"glove-wiki-gigaword-100\")\n",
    "def sentence_to_vec(sentence, model, vector_size=100):\n",
    "    words = sentence.split()  # Split kalimat menjadi kata\n",
    "    word_vectors = [model[word] for word in words if word in model]\n",
    "    if len(word_vectors) == 0:\n",
    "        return np.zeros(vector_size) \n",
    "    return np.mean(word_vectors, axis=0)  "
   ]
  },
  {
   "cell_type": "code",
   "execution_count": 20,
   "metadata": {},
   "outputs": [],
   "source": [
    "x_test_tfid = tfid.transform(test_data['text'])\n",
    "x_train_Word2Vec = np.array([sentence_to_vec(sentence, glove_model) for sentence in train_data['text']])\n",
    "x_test_Word2Vec = np.array([sentence_to_vec(sentence, glove_model) for sentence in test_data['text']])\n",
    "label = train_data['label']\n",
    "y_test = test_data['label']"
   ]
  },
  {
   "cell_type": "code",
   "execution_count": 21,
   "metadata": {},
   "outputs": [
    {
     "name": "stdout",
     "output_type": "stream",
     "text": [
      "Current Directory: /home/atawimas/Project/DEEP-LEARNING/NLP/Text-Mining_Project/Saved_Model\n"
     ]
    }
   ],
   "source": [
    "data_path =\"../Saved_Model\"\n",
    "os.chdir(data_path)\n",
    "print(\"Current Directory:\", os.getcwd())"
   ]
  },
  {
   "cell_type": "code",
   "execution_count": 10,
   "metadata": {},
   "outputs": [],
   "source": [
    "from sklearn.svm import SVC\n",
    "from sklearn.linear_model import LogisticRegression\n",
    "from sklearn.metrics import accuracy_score, precision_score, recall_score, f1_score\n",
    "from sklearn.model_selection import GridSearchCV\n",
    "\n"
   ]
  },
  {
   "cell_type": "code",
   "execution_count": 23,
   "metadata": {},
   "outputs": [],
   "source": [
    "scoring = {\n",
    "    'accuracy': 'accuracy',\n",
    "    'precision': 'precision_weighted',\n",
    "    'recall': 'recall_weighted',\n",
    "    'f1': 'f1_weighted'\n",
    "} \n",
    "best_estimators_df = pd.DataFrame(columns=[\"Text Representation\", \"Model\", \"Param\", \"Accuracy\", \"Precision\", \"Recall\", \"F1-Score\"]) #buat dataframe untuk mendapatkan best estimator setiap model dan text vectorizer"
   ]
  },
  {
   "cell_type": "code",
   "execution_count": null,
   "metadata": {},
   "outputs": [],
   "source": [
    "param_grid = {\n",
    "    'kernel': ['rbf'],\n",
    "    'C': [1, 0.1, 0.001]\n",
    "}\n",
    "\n",
    "grid_search = GridSearchCV(\n",
    "    SVC(), \n",
    "    param_grid=param_grid, \n",
    "    cv=3, \n",
    "    scoring='accuracy', \n",
    "    refit='accuracy', \n",
    "    n_jobs=-1\n",
    ")\n",
    "\n",
    "# Fit model\n",
    "grid_search.fit(x_TF_IDF, label)\n",
    "\n",
    "# Mendapatkan model terbaik\n",
    "best_estimator = grid_search.best_estimator_\n",
    "\n",
    "# Menyimpan model terbaik menggunakan pickle\n",
    "with open('tfid_svc_model.pkl', 'wb') as f:\n",
    "    pickle.dump(best_estimator, f)\n",
    "\n",
    "# Melakukan prediksi menggunakan model yang dimuat\n",
    "y_pred = best_estimator.predict(x_test_tfid)\n",
    "\n",
    "# Menghitung metrik performa\n",
    "accuracy = accuracy_score(y_test, y_pred)\n",
    "precision = precision_score(y_test, y_pred)\n",
    "recall = recall_score(y_test, y_pred)\n",
    "f1 = f1_score(y_test, y_pred)\n",
    "\n",
    "print(f\"Accuracy: {accuracy}\")\n",
    "print(f\"Precision: {precision}\")\n",
    "print(f\"Recall: {recall}\")\n",
    "print(f\"F1-Score: {f1}\")"
   ]
  },
  {
   "cell_type": "code",
   "execution_count": 79,
   "metadata": {},
   "outputs": [
    {
     "name": "stderr",
     "output_type": "stream",
     "text": [
      "/tmp/ipykernel_1034/1231831328.py:12: FutureWarning: The behavior of DataFrame concatenation with empty or all-NA entries is deprecated. In a future version, this will no longer exclude empty or all-NA columns when determining the result dtypes. To retain the old behavior, exclude the relevant entries before the concat operation.\n",
      "  best_estimators_df = pd.concat([best_estimators_df, new_row], ignore_index=True)\n"
     ]
    },
    {
     "data": {
      "text/html": [
       "<div>\n",
       "<style scoped>\n",
       "    .dataframe tbody tr th:only-of-type {\n",
       "        vertical-align: middle;\n",
       "    }\n",
       "\n",
       "    .dataframe tbody tr th {\n",
       "        vertical-align: top;\n",
       "    }\n",
       "\n",
       "    .dataframe thead th {\n",
       "        text-align: right;\n",
       "    }\n",
       "</style>\n",
       "<table border=\"1\" class=\"dataframe\">\n",
       "  <thead>\n",
       "    <tr style=\"text-align: right;\">\n",
       "      <th></th>\n",
       "      <th>Text Representation</th>\n",
       "      <th>Model</th>\n",
       "      <th>Param</th>\n",
       "      <th>Accuracy</th>\n",
       "      <th>Precision</th>\n",
       "      <th>Recall</th>\n",
       "      <th>F1-Score</th>\n",
       "    </tr>\n",
       "  </thead>\n",
       "  <tbody>\n",
       "    <tr>\n",
       "      <th>0</th>\n",
       "      <td>TF-IDF</td>\n",
       "      <td>SVC</td>\n",
       "      <td>{'C': 1, 'kernel': 'rbf'}</td>\n",
       "      <td>0.918947</td>\n",
       "      <td>0.917406</td>\n",
       "      <td>0.92585</td>\n",
       "      <td>0.921609</td>\n",
       "    </tr>\n",
       "  </tbody>\n",
       "</table>\n",
       "</div>"
      ],
      "text/plain": [
       "  Text Representation Model                      Param  Accuracy  Precision  \\\n",
       "0              TF-IDF   SVC  {'C': 1, 'kernel': 'rbf'}  0.918947   0.917406   \n",
       "\n",
       "    Recall  F1-Score  \n",
       "0  0.92585  0.921609  "
      ]
     },
     "execution_count": 79,
     "metadata": {},
     "output_type": "execute_result"
    }
   ],
   "source": [
    "# Menyimpan hasil ke dalam DataFrame\n",
    "new_row = pd.DataFrame({\n",
    "    \"Text Representation\": [\"TF-IDF\"],  \n",
    "    \"Model\": [\"SVC\"],  \n",
    "    \"Param\": [grid_search.best_params_], \n",
    "    \"Accuracy\": [accuracy],\n",
    "    \"Precision\": [precision],\n",
    "    \"Recall\": [recall],\n",
    "    \"F1-Score\": [f1]\n",
    "})\n",
    "\n",
    "best_estimators_df = pd.concat([best_estimators_df, new_row], ignore_index=True)\n",
    "\n",
    "# Menampilkan hasil\n",
    "new_row"
   ]
  },
  {
   "cell_type": "code",
   "execution_count": 80,
   "metadata": {},
   "outputs": [
    {
     "name": "stdout",
     "output_type": "stream",
     "text": [
      "Accuracy: 0.8388157894736842\n",
      "Precision: 0.8349127182044888\n",
      "Recall: 0.856047046791102\n",
      "F1-Score: 0.8453478096199974\n"
     ]
    }
   ],
   "source": [
    "param_grid = {\n",
    "    'kernel': ['rbf'],\n",
    "    'C': [1, 0.1, 0.001]\n",
    "}\n",
    "\n",
    "grid_search = GridSearchCV(\n",
    "    SVC(), \n",
    "    param_grid=param_grid, \n",
    "    cv=3, \n",
    "    scoring='accuracy', \n",
    "    refit='accuracy', \n",
    "    n_jobs=-1\n",
    ")\n",
    "\n",
    "# Fit model\n",
    "grid_search.fit(x_train_Word2Vec, label)\n",
    "\n",
    "# Mendapatkan model terbaik\n",
    "best_estimator = grid_search.best_estimator_\n",
    "\n",
    "# Menyimpan model terbaik menggunakan pickle\n",
    "with open('w2v_svc_model.pkl', 'wb') as f:\n",
    "    pickle.dump(best_estimator, f)\n",
    "\n",
    "# Melakukan prediksi menggunakan model yang dimuat\n",
    "y_pred = best_estimator.predict(x_test_Word2Vec)\n",
    "\n",
    "# Menghitung metrik performa\n",
    "accuracy = accuracy_score(y_test, y_pred)\n",
    "precision = precision_score(y_test, y_pred)\n",
    "recall = recall_score(y_test, y_pred)\n",
    "f1 = f1_score(y_test, y_pred)\n",
    "\n",
    "print(f\"Accuracy: {accuracy}\")\n",
    "print(f\"Precision: {precision}\")\n",
    "print(f\"Recall: {recall}\")\n",
    "print(f\"F1-Score: {f1}\")"
   ]
  },
  {
   "cell_type": "code",
   "execution_count": 81,
   "metadata": {},
   "outputs": [
    {
     "data": {
      "text/html": [
       "<div>\n",
       "<style scoped>\n",
       "    .dataframe tbody tr th:only-of-type {\n",
       "        vertical-align: middle;\n",
       "    }\n",
       "\n",
       "    .dataframe tbody tr th {\n",
       "        vertical-align: top;\n",
       "    }\n",
       "\n",
       "    .dataframe thead th {\n",
       "        text-align: right;\n",
       "    }\n",
       "</style>\n",
       "<table border=\"1\" class=\"dataframe\">\n",
       "  <thead>\n",
       "    <tr style=\"text-align: right;\">\n",
       "      <th></th>\n",
       "      <th>Text Representation</th>\n",
       "      <th>Model</th>\n",
       "      <th>Param</th>\n",
       "      <th>Accuracy</th>\n",
       "      <th>Precision</th>\n",
       "      <th>Recall</th>\n",
       "      <th>F1-Score</th>\n",
       "    </tr>\n",
       "  </thead>\n",
       "  <tbody>\n",
       "    <tr>\n",
       "      <th>0</th>\n",
       "      <td>Word2Vec</td>\n",
       "      <td>SVC</td>\n",
       "      <td>{'C': 1, 'kernel': 'rbf'}</td>\n",
       "      <td>0.838816</td>\n",
       "      <td>0.834913</td>\n",
       "      <td>0.856047</td>\n",
       "      <td>0.845348</td>\n",
       "    </tr>\n",
       "  </tbody>\n",
       "</table>\n",
       "</div>"
      ],
      "text/plain": [
       "  Text Representation Model                      Param  Accuracy  Precision  \\\n",
       "0            Word2Vec   SVC  {'C': 1, 'kernel': 'rbf'}  0.838816   0.834913   \n",
       "\n",
       "     Recall  F1-Score  \n",
       "0  0.856047  0.845348  "
      ]
     },
     "execution_count": 81,
     "metadata": {},
     "output_type": "execute_result"
    }
   ],
   "source": [
    "# Menyimpan hasil ke dalam DataFrame\n",
    "new_row = pd.DataFrame({\n",
    "    \"Text Representation\": [\"Word2Vec\"],  \n",
    "    \"Model\": [\"SVC\"],  \n",
    "    \"Param\": [grid_search.best_params_], \n",
    "    \"Accuracy\": [accuracy],\n",
    "    \"Precision\": [precision],\n",
    "    \"Recall\": [recall],\n",
    "    \"F1-Score\": [f1]\n",
    "})\n",
    "\n",
    "best_estimators_df = pd.concat([best_estimators_df, new_row], ignore_index=True)\n",
    "\n",
    "\n",
    "# Menampilkan hasil\n",
    "new_row"
   ]
  },
  {
   "cell_type": "markdown",
   "metadata": {},
   "source": [
    "### Logistic Regression"
   ]
  },
  {
   "cell_type": "code",
   "execution_count": 82,
   "metadata": {},
   "outputs": [
    {
     "name": "stdout",
     "output_type": "stream",
     "text": [
      "Logistic Regression Best Parameters: {'C': 10, 'solver': 'liblinear'}\n",
      "Accuracy: 0.8315789473684211\n",
      "Precision: 0.8279730740463724\n",
      "Recall: 0.8491434415750447\n",
      "F1-Score: 0.8384246402423631\n"
     ]
    }
   ],
   "source": [
    "# Parameter Grid untuk Logistic Regression\n",
    "param_grid_lr = {\n",
    "    'C': [0.01, 0.1, 1, 10],  # Regularization parameter\n",
    "    'solver': ['liblinear', 'saga']  # Solver yang digunakan\n",
    "}\n",
    "\n",
    "# Membuat GridSearchCV untuk Logistic Regression\n",
    "grid_search = GridSearchCV(LogisticRegression(), param_grid_lr, cv=3, scoring='accuracy', refit='accuracy', n_jobs=-1)\n",
    "\n",
    "# Fit model Logistic Regression\n",
    "grid_search.fit(x_TF_IDF, label)\n",
    "\n",
    "# Menyimpan model Logistic Regression terbaik\n",
    "best_lr_model = grid_search.best_estimator_\n",
    "\n",
    "# Menyimpan model terbaik menggunakan pickle\n",
    "with open('tfid_lr_model.pkl', 'wb') as f:\n",
    "    pickle.dump(best_lr_model, f)\n",
    "\n",
    "# Prediksi dengan model terbaik\n",
    "y_pred_lr = best_lr_model.predict(x_test_tfid)\n",
    "\n",
    "# Evaluasi performa model Logistic Regression\n",
    "accuracy = accuracy_score(y_test, y_pred_lr)\n",
    "precision = precision_score(y_test, y_pred_lr)\n",
    "recall = recall_score(y_test, y_pred_lr)\n",
    "f1 = f1_score(y_test, y_pred_lr)\n",
    "\n",
    "# Menampilkan hasil\n",
    "print(f\"Logistic Regression Best Parameters: {grid_search.best_params_}\")\n",
    "print(f\"Accuracy: {accuracy}\")\n",
    "print(f\"Precision: {precision}\")\n",
    "print(f\"Recall: {recall}\")\n",
    "print(f\"F1-Score: {f1}\")\n"
   ]
  },
  {
   "cell_type": "code",
   "execution_count": 83,
   "metadata": {},
   "outputs": [
    {
     "data": {
      "text/html": [
       "<div>\n",
       "<style scoped>\n",
       "    .dataframe tbody tr th:only-of-type {\n",
       "        vertical-align: middle;\n",
       "    }\n",
       "\n",
       "    .dataframe tbody tr th {\n",
       "        vertical-align: top;\n",
       "    }\n",
       "\n",
       "    .dataframe thead th {\n",
       "        text-align: right;\n",
       "    }\n",
       "</style>\n",
       "<table border=\"1\" class=\"dataframe\">\n",
       "  <thead>\n",
       "    <tr style=\"text-align: right;\">\n",
       "      <th></th>\n",
       "      <th>Text Representation</th>\n",
       "      <th>Model</th>\n",
       "      <th>Param</th>\n",
       "      <th>Accuracy</th>\n",
       "      <th>Precision</th>\n",
       "      <th>Recall</th>\n",
       "      <th>F1-Score</th>\n",
       "    </tr>\n",
       "  </thead>\n",
       "  <tbody>\n",
       "    <tr>\n",
       "      <th>0</th>\n",
       "      <td>TF-IDF</td>\n",
       "      <td>Logistic Regression</td>\n",
       "      <td>{'C': 10, 'solver': 'liblinear'}</td>\n",
       "      <td>0.912895</td>\n",
       "      <td>0.913043</td>\n",
       "      <td>0.918179</td>\n",
       "      <td>0.915604</td>\n",
       "    </tr>\n",
       "  </tbody>\n",
       "</table>\n",
       "</div>"
      ],
      "text/plain": [
       "  Text Representation                Model                             Param  \\\n",
       "0              TF-IDF  Logistic Regression  {'C': 10, 'solver': 'liblinear'}   \n",
       "\n",
       "   Accuracy  Precision    Recall  F1-Score  \n",
       "0  0.912895   0.913043  0.918179  0.915604  "
      ]
     },
     "execution_count": 83,
     "metadata": {},
     "output_type": "execute_result"
    }
   ],
   "source": [
    "# Menyimpan hasil ke dalam DataFrame\n",
    "new_row = pd.DataFrame({\n",
    "    \"Text Representation\": [\"TF-IDF\"],  \n",
    "    \"Model\": [\"Logistic Regression\"],  \n",
    "    \"Param\": [grid_search.best_params_], \n",
    "    \"Accuracy\": [accuracy],\n",
    "    \"Precision\": [precision],\n",
    "    \"Recall\": [recall],\n",
    "    \"F1-Score\": [f1]\n",
    "})\n",
    "\n",
    "best_estimators_df = pd.concat([best_estimators_df, new_row], ignore_index=True)\n",
    "\n",
    "\n",
    "# Menampilkan hasil\n",
    "new_row"
   ]
  },
  {
   "cell_type": "code",
   "execution_count": 84,
   "metadata": {},
   "outputs": [
    {
     "name": "stderr",
     "output_type": "stream",
     "text": [
      "/home/atawimas/miniconda3/envs/rapids-24.10/lib/python3.12/site-packages/sklearn/linear_model/_sag.py:348: ConvergenceWarning: The max_iter was reached which means the coef_ did not converge\n",
      "  warnings.warn(\n",
      "/home/atawimas/miniconda3/envs/rapids-24.10/lib/python3.12/site-packages/sklearn/linear_model/_sag.py:348: ConvergenceWarning: The max_iter was reached which means the coef_ did not converge\n",
      "  warnings.warn(\n"
     ]
    },
    {
     "name": "stdout",
     "output_type": "stream",
     "text": [
      "Logistic Regression Best Parameters: {'C': 10, 'solver': 'saga'}\n",
      "Accuracy: 0.8322368421052632\n",
      "Precision: 0.8288423153692615\n",
      "Recall: 0.8493991306571209\n",
      "F1-Score: 0.8389948225786084\n"
     ]
    },
    {
     "name": "stderr",
     "output_type": "stream",
     "text": [
      "/home/atawimas/miniconda3/envs/rapids-24.10/lib/python3.12/site-packages/sklearn/linear_model/_sag.py:348: ConvergenceWarning: The max_iter was reached which means the coef_ did not converge\n",
      "  warnings.warn(\n"
     ]
    }
   ],
   "source": [
    "# Parameter Grid untuk Logistic Regression\n",
    "param_grid_lr = {\n",
    "    'C': [0.01, 0.1, 1, 10],  # Regularization parameter\n",
    "    'solver': ['liblinear', 'saga']  # Solver yang digunakan\n",
    "}\n",
    "\n",
    "# Membuat GridSearchCV untuk Logistic Regression\n",
    "grid_search = GridSearchCV(LogisticRegression(), param_grid_lr, cv=3, scoring='accuracy', refit='accuracy', n_jobs=-1)\n",
    "\n",
    "# Fit model Logistic Regression\n",
    "grid_search.fit(x_train_Word2Vec, label)\n",
    "\n",
    "# Menyimpan model Logistic Regression terbaik\n",
    "best_lr_model = grid_search.best_estimator_\n",
    "\n",
    "# Menyimpan model terbaik menggunakan pickle\n",
    "with open('w2v_lr_model.pkl', 'wb') as f:\n",
    "    pickle.dump(best_lr_model, f)\n",
    "\n",
    "# Prediksi dengan model terbaik\n",
    "y_pred_lr = best_lr_model.predict(x_test_Word2Vec)\n",
    "\n",
    "# Evaluasi performa model Logistic Regression\n",
    "accuracy = accuracy_score(y_test, y_pred_lr)\n",
    "precision = precision_score(y_test, y_pred_lr)\n",
    "recall = recall_score(y_test, y_pred_lr)\n",
    "f1= f1_score(y_test, y_pred_lr)\n",
    "\n",
    "# Menampilkan hasil\n",
    "print(f\"Logistic Regression Best Parameters: {grid_search.best_params_}\")\n",
    "print(f\"Accuracy: {accuracy}\")\n",
    "print(f\"Precision: {precision}\")\n",
    "print(f\"Recall: {recall}\")\n",
    "print(f\"F1-Score: {f1}\")\n"
   ]
  },
  {
   "cell_type": "code",
   "execution_count": 85,
   "metadata": {},
   "outputs": [
    {
     "data": {
      "text/html": [
       "<div>\n",
       "<style scoped>\n",
       "    .dataframe tbody tr th:only-of-type {\n",
       "        vertical-align: middle;\n",
       "    }\n",
       "\n",
       "    .dataframe tbody tr th {\n",
       "        vertical-align: top;\n",
       "    }\n",
       "\n",
       "    .dataframe thead th {\n",
       "        text-align: right;\n",
       "    }\n",
       "</style>\n",
       "<table border=\"1\" class=\"dataframe\">\n",
       "  <thead>\n",
       "    <tr style=\"text-align: right;\">\n",
       "      <th></th>\n",
       "      <th>Text Representation</th>\n",
       "      <th>Model</th>\n",
       "      <th>Param</th>\n",
       "      <th>Accuracy</th>\n",
       "      <th>Precision</th>\n",
       "      <th>Recall</th>\n",
       "      <th>F1-Score</th>\n",
       "    </tr>\n",
       "  </thead>\n",
       "  <tbody>\n",
       "    <tr>\n",
       "      <th>0</th>\n",
       "      <td>Word2Vec</td>\n",
       "      <td>Logistic Regression</td>\n",
       "      <td>{'C': 10, 'solver': 'saga'}</td>\n",
       "      <td>0.832237</td>\n",
       "      <td>0.828842</td>\n",
       "      <td>0.849399</td>\n",
       "      <td>0.838995</td>\n",
       "    </tr>\n",
       "  </tbody>\n",
       "</table>\n",
       "</div>"
      ],
      "text/plain": [
       "  Text Representation                Model                        Param  \\\n",
       "0            Word2Vec  Logistic Regression  {'C': 10, 'solver': 'saga'}   \n",
       "\n",
       "   Accuracy  Precision    Recall  F1-Score  \n",
       "0  0.832237   0.828842  0.849399  0.838995  "
      ]
     },
     "execution_count": 85,
     "metadata": {},
     "output_type": "execute_result"
    }
   ],
   "source": [
    "# Menyimpan hasil ke dalam DataFrame\n",
    "new_row = pd.DataFrame({\n",
    "    \"Text Representation\": [\"Word2Vec\"],  \n",
    "    \"Model\": [\"Logistic Regression\"],  \n",
    "    \"Param\": [grid_search.best_params_], \n",
    "    \"Accuracy\": [accuracy],\n",
    "    \"Precision\": [precision],\n",
    "    \"Recall\": [recall],\n",
    "    \"F1-Score\": [f1]\n",
    "})\n",
    "\n",
    "best_estimators_df = pd.concat([best_estimators_df, new_row], ignore_index=True)\n",
    "\n",
    "\n",
    "# Menampilkan hasil\n",
    "new_row"
   ]
  },
  {
   "cell_type": "markdown",
   "metadata": {},
   "source": [
    "### AFIN lexicol model"
   ]
  },
  {
   "cell_type": "code",
   "execution_count": 86,
   "metadata": {},
   "outputs": [
    {
     "data": {
      "text/html": [
       "<div>\n",
       "<style scoped>\n",
       "    .dataframe tbody tr th:only-of-type {\n",
       "        vertical-align: middle;\n",
       "    }\n",
       "\n",
       "    .dataframe tbody tr th {\n",
       "        vertical-align: top;\n",
       "    }\n",
       "\n",
       "    .dataframe thead th {\n",
       "        text-align: right;\n",
       "    }\n",
       "</style>\n",
       "<table border=\"1\" class=\"dataframe\">\n",
       "  <thead>\n",
       "    <tr style=\"text-align: right;\">\n",
       "      <th></th>\n",
       "      <th>Text Representation</th>\n",
       "      <th>Model</th>\n",
       "      <th>Param</th>\n",
       "      <th>Accuracy</th>\n",
       "      <th>Precision</th>\n",
       "      <th>Recall</th>\n",
       "      <th>F1-Score</th>\n",
       "    </tr>\n",
       "  </thead>\n",
       "  <tbody>\n",
       "    <tr>\n",
       "      <th>0</th>\n",
       "      <td>N/A</td>\n",
       "      <td>AFINN</td>\n",
       "      <td>N/A</td>\n",
       "      <td>0.699342</td>\n",
       "      <td>0.637285</td>\n",
       "      <td>0.964971</td>\n",
       "      <td>0.767619</td>\n",
       "    </tr>\n",
       "  </tbody>\n",
       "</table>\n",
       "</div>"
      ],
      "text/plain": [
       "  Text Representation  Model Param  Accuracy  Precision    Recall  F1-Score\n",
       "0                 N/A  AFINN   N/A  0.699342   0.637285  0.964971  0.767619"
      ]
     },
     "execution_count": 86,
     "metadata": {},
     "output_type": "execute_result"
    }
   ],
   "source": [
    "from afinn import Afinn\n",
    "\n",
    "# Membuat objek AFINN\n",
    "afinn = Afinn()\n",
    "\n",
    "# Prediksi sentimen menggunakan AFINN\n",
    "afinn_scores = [afinn.score(sentence) for sentence in test_data['text']]\n",
    "\n",
    "# Asumsikan label sentimen yang diharapkan (untuk tujuan perbandingan)\n",
    "# Anda mungkin ingin menyesuaikan dengan dataset Anda\n",
    "y_pred= [1 if score > 0 else 0 for score in afinn_scores]  # 1 = positif, 0 = negatif\n",
    "\n",
    "# Evaluasi performa model AFINN\n",
    "accuracy_afinn = accuracy_score(y_test, y_pred)\n",
    "precision_afinn = precision_score(y_test, y_pred)\n",
    "recall_afinn = recall_score(y_test, y_pred)\n",
    "f1_afinn = f1_score(y_test, y_pred)\n",
    "\n",
    "# Menyimpan hasil ke dalam DataFrame\n",
    "new_row_afinn = pd.DataFrame({\n",
    "    \"Text Representation\": [\"N/A\"],  \n",
    "    \"Model\": [\"AFINN\"],  \n",
    "    \"Param\": [\"N/A\"],  \n",
    "    \"Accuracy\": [accuracy_afinn],\n",
    "    \"Precision\": [precision_afinn],\n",
    "    \"Recall\": [recall_afinn],\n",
    "    \"F1-Score\": [f1_afinn]\n",
    "})\n",
    "\n",
    "best_estimators_df = pd.concat([best_estimators_df, new_row_afinn], ignore_index=True)\n",
    "\n",
    "# Menampilkan hasil\n",
    "new_row_afinn\n"
   ]
  },
  {
   "cell_type": "markdown",
   "metadata": {},
   "source": [
    "### Vader Model"
   ]
  },
  {
   "cell_type": "code",
   "execution_count": 24,
   "metadata": {},
   "outputs": [
    {
     "name": "stderr",
     "output_type": "stream",
     "text": [
      "/tmp/ipykernel_2552/3039586952.py:29: FutureWarning: The behavior of DataFrame concatenation with empty or all-NA entries is deprecated. In a future version, this will no longer exclude empty or all-NA columns when determining the result dtypes. To retain the old behavior, exclude the relevant entries before the concat operation.\n",
      "  best_estimators_df = pd.concat([best_estimators_df, new_row_vader], ignore_index=True)\n"
     ]
    },
    {
     "data": {
      "text/html": [
       "<div>\n",
       "<style scoped>\n",
       "    .dataframe tbody tr th:only-of-type {\n",
       "        vertical-align: middle;\n",
       "    }\n",
       "\n",
       "    .dataframe tbody tr th {\n",
       "        vertical-align: top;\n",
       "    }\n",
       "\n",
       "    .dataframe thead th {\n",
       "        text-align: right;\n",
       "    }\n",
       "</style>\n",
       "<table border=\"1\" class=\"dataframe\">\n",
       "  <thead>\n",
       "    <tr style=\"text-align: right;\">\n",
       "      <th></th>\n",
       "      <th>Text Representation</th>\n",
       "      <th>Model</th>\n",
       "      <th>Param</th>\n",
       "      <th>Accuracy</th>\n",
       "      <th>Precision</th>\n",
       "      <th>Recall</th>\n",
       "      <th>F1-Score</th>\n",
       "    </tr>\n",
       "  </thead>\n",
       "  <tbody>\n",
       "    <tr>\n",
       "      <th>0</th>\n",
       "      <td>N/A</td>\n",
       "      <td>VADER</td>\n",
       "      <td>N/A</td>\n",
       "      <td>0.661579</td>\n",
       "      <td>0.60632</td>\n",
       "      <td>0.976221</td>\n",
       "      <td>0.748041</td>\n",
       "    </tr>\n",
       "  </tbody>\n",
       "</table>\n",
       "</div>"
      ],
      "text/plain": [
       "  Text Representation  Model Param  Accuracy  Precision    Recall  F1-Score\n",
       "0                 N/A  VADER   N/A  0.661579    0.60632  0.976221  0.748041"
      ]
     },
     "execution_count": 24,
     "metadata": {},
     "output_type": "execute_result"
    }
   ],
   "source": [
    "from vaderSentiment.vaderSentiment import SentimentIntensityAnalyzer\n",
    "\n",
    "# Membuat objek VADER\n",
    "vader = SentimentIntensityAnalyzer()\n",
    "\n",
    "# Prediksi sentimen menggunakan VADER\n",
    "vader_scores = [vader.polarity_scores(sentence)['compound'] for sentence in test_data['text']]\n",
    "\n",
    "# Mengubah skor menjadi label sentimen (positif/negatif)\n",
    "y_pred = [1 if score > 0 else 0 for score in vader_scores]  # 1 = positif, 0 = negatif\n",
    "\n",
    "# Evaluasi performa model VADER\n",
    "accuracy_vader = accuracy_score(y_test, y_pred)\n",
    "precision_vader = precision_score(y_test, y_pred)\n",
    "recall_vader = recall_score(y_test, y_pred)\n",
    "f1_vader = f1_score(y_test, y_pred)\n",
    "\n",
    "# Menyimpan hasil ke dalam DataFrame\n",
    "new_row_vader = pd.DataFrame({\n",
    "    \"Text Representation\": [\"N/A\"],  \n",
    "    \"Model\": [\"VADER\"],  \n",
    "    \"Param\": [\"N/A\"],  \n",
    "    \"Accuracy\": [accuracy_vader],\n",
    "    \"Precision\": [precision_vader],\n",
    "    \"Recall\": [recall_vader],\n",
    "    \"F1-Score\": [f1_vader]\n",
    "})\n",
    "\n",
    "best_estimators_df = pd.concat([best_estimators_df, new_row_vader], ignore_index=True)\n",
    "\n",
    "# Menampilkan hasil\n",
    "new_row_vader\n"
   ]
  },
  {
   "cell_type": "code",
   "execution_count": 88,
   "metadata": {},
   "outputs": [
    {
     "data": {
      "text/html": [
       "<div>\n",
       "<style scoped>\n",
       "    .dataframe tbody tr th:only-of-type {\n",
       "        vertical-align: middle;\n",
       "    }\n",
       "\n",
       "    .dataframe tbody tr th {\n",
       "        vertical-align: top;\n",
       "    }\n",
       "\n",
       "    .dataframe thead th {\n",
       "        text-align: right;\n",
       "    }\n",
       "</style>\n",
       "<table border=\"1\" class=\"dataframe\">\n",
       "  <thead>\n",
       "    <tr style=\"text-align: right;\">\n",
       "      <th></th>\n",
       "      <th>Text Representation</th>\n",
       "      <th>Model</th>\n",
       "      <th>Param</th>\n",
       "      <th>Accuracy</th>\n",
       "      <th>Precision</th>\n",
       "      <th>Recall</th>\n",
       "      <th>F1-Score</th>\n",
       "    </tr>\n",
       "  </thead>\n",
       "  <tbody>\n",
       "    <tr>\n",
       "      <th>0</th>\n",
       "      <td>TF-IDF</td>\n",
       "      <td>SVC</td>\n",
       "      <td>{'C': 1, 'kernel': 'rbf'}</td>\n",
       "      <td>0.918947</td>\n",
       "      <td>0.917406</td>\n",
       "      <td>0.925850</td>\n",
       "      <td>0.921609</td>\n",
       "    </tr>\n",
       "    <tr>\n",
       "      <th>1</th>\n",
       "      <td>Word2Vec</td>\n",
       "      <td>SVC</td>\n",
       "      <td>{'C': 1, 'kernel': 'rbf'}</td>\n",
       "      <td>0.838816</td>\n",
       "      <td>0.834913</td>\n",
       "      <td>0.856047</td>\n",
       "      <td>0.845348</td>\n",
       "    </tr>\n",
       "    <tr>\n",
       "      <th>2</th>\n",
       "      <td>TF-IDF</td>\n",
       "      <td>Logistic Regression</td>\n",
       "      <td>{'C': 10, 'solver': 'liblinear'}</td>\n",
       "      <td>0.912895</td>\n",
       "      <td>0.913043</td>\n",
       "      <td>0.918179</td>\n",
       "      <td>0.915604</td>\n",
       "    </tr>\n",
       "    <tr>\n",
       "      <th>3</th>\n",
       "      <td>Word2Vec</td>\n",
       "      <td>Logistic Regression</td>\n",
       "      <td>{'C': 10, 'solver': 'saga'}</td>\n",
       "      <td>0.832237</td>\n",
       "      <td>0.828842</td>\n",
       "      <td>0.849399</td>\n",
       "      <td>0.838995</td>\n",
       "    </tr>\n",
       "    <tr>\n",
       "      <th>4</th>\n",
       "      <td>N/A</td>\n",
       "      <td>AFINN</td>\n",
       "      <td>N/A</td>\n",
       "      <td>0.699342</td>\n",
       "      <td>0.637285</td>\n",
       "      <td>0.964971</td>\n",
       "      <td>0.767619</td>\n",
       "    </tr>\n",
       "    <tr>\n",
       "      <th>5</th>\n",
       "      <td>N/A</td>\n",
       "      <td>VADER</td>\n",
       "      <td>N/A</td>\n",
       "      <td>0.661579</td>\n",
       "      <td>0.606320</td>\n",
       "      <td>0.976221</td>\n",
       "      <td>0.748041</td>\n",
       "    </tr>\n",
       "  </tbody>\n",
       "</table>\n",
       "</div>"
      ],
      "text/plain": [
       "  Text Representation                Model                             Param  \\\n",
       "0              TF-IDF                  SVC         {'C': 1, 'kernel': 'rbf'}   \n",
       "1            Word2Vec                  SVC         {'C': 1, 'kernel': 'rbf'}   \n",
       "2              TF-IDF  Logistic Regression  {'C': 10, 'solver': 'liblinear'}   \n",
       "3            Word2Vec  Logistic Regression       {'C': 10, 'solver': 'saga'}   \n",
       "4                 N/A                AFINN                               N/A   \n",
       "5                 N/A                VADER                               N/A   \n",
       "\n",
       "   Accuracy  Precision    Recall  F1-Score  \n",
       "0  0.918947   0.917406  0.925850  0.921609  \n",
       "1  0.838816   0.834913  0.856047  0.845348  \n",
       "2  0.912895   0.913043  0.918179  0.915604  \n",
       "3  0.832237   0.828842  0.849399  0.838995  \n",
       "4  0.699342   0.637285  0.964971  0.767619  \n",
       "5  0.661579   0.606320  0.976221  0.748041  "
      ]
     },
     "execution_count": 88,
     "metadata": {},
     "output_type": "execute_result"
    }
   ],
   "source": [
    "best_estimators_df"
   ]
  }
 ],
 "metadata": {
  "kernelspec": {
   "display_name": "base",
   "language": "python",
   "name": "python3"
  },
  "language_info": {
   "codemirror_mode": {
    "name": "ipython",
    "version": 3
   },
   "file_extension": ".py",
   "mimetype": "text/x-python",
   "name": "python",
   "nbconvert_exporter": "python",
   "pygments_lexer": "ipython3",
   "version": "3.11.5"
  }
 },
 "nbformat": 4,
 "nbformat_minor": 2
}
